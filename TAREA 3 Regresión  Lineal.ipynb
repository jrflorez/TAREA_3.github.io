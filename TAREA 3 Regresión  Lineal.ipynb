{
 "cells": [
  {
   "cell_type": "raw",
   "id": "77032ae1-fe60-47dc-abd1-07c56db5b67c",
   "metadata": {},
   "source": [
    "TAREA 3 ALGORITMOS DE APRENDIZAJE SUPERVISADO\n",
    "\n",
    "TRABAJO PRESENTADO AL TUTOR\n",
    "BREYNER ALEXANDER PARRA -\n",
    "SANDRA MILENA PATINO AVELLA\n",
    "\n",
    "ESTUDIANTE \n",
    "JOSE RICARDOFLOREZ CESPEDES\n",
    "GRUPO 202016908_45\n",
    "\n",
    "ANÁLISIS DE DATOS\n",
    "\n",
    "UNIVERSIDAD NACIONAL ABIERTA Y A DISTANCIA\n",
    "\n",
    "INGENIERIA DE SISTEMAS \n",
    "\n",
    "2025\n",
    "\n",
    "CALI"
   ]
  },
  {
   "cell_type": "code",
   "execution_count": null,
   "id": "770a1b89-09d1-4580-9883-8693bb06f170",
   "metadata": {},
   "outputs": [],
   "source": [
    "                                                Regresión Lineal: Vehicle Dataset"
   ]
  },
  {
   "cell_type": "code",
   "execution_count": 120,
   "id": "b1fc98df-8657-41be-8e6f-d99725cd18cc",
   "metadata": {},
   "outputs": [],
   "source": [
    "from sklearn.preprocessing import OneHotEncoder\n",
    "from sklearn.metrics import r2_score, root_mean_squared_error\n",
    "from sklearn.model_selection import train_test_split, GridSearchCV\n",
    "from sklearn.linear_model import LinearRegression\n",
    "from sklearn.metrics import mean_absolute_error, mean_squared_error, r2_score\n",
    "from sklearn.metrics import classification_report, confusion_matrix\n",
    "from sklearn.metrics import accuracy_score, precision_score, recall_score, f1_score, classification_report\n",
    "from sklearn.linear_model import LogisticRegression\n",
    "from sklearn.model_selection import train_test_split\n",
    "from sklearn import metrics\n",
    "import matplotlib.pyplot as plt\n",
    "import seaborn as sns\n",
    "import numpy as np\n",
    "import pandas as pd\n",
    "from sklearn.preprocessing import LabelEncoder\n",
    "from sklearn.feature_selection import SelectKBest, f_regression"
   ]
  },
  {
   "cell_type": "code",
   "execution_count": 6,
   "id": "47f20a19-3ce7-4ca9-b717-6a0bd37c0d54",
   "metadata": {},
   "outputs": [],
   "source": [
    "df1 = pd.read_csv(\"C:/Users/RICARDO/Desktop/archive/car data.csv\")"
   ]
  },
  {
   "cell_type": "code",
   "execution_count": 8,
   "id": "275925ea-7e82-4fe0-be67-2c3318c7ff6a",
   "metadata": {},
   "outputs": [],
   "source": [
    "df2 = pd.read_csv(\"C:/Users/RICARDO/Desktop/archive/CAR DETAILS FROM CAR DEKHO.csv\")"
   ]
  },
  {
   "cell_type": "code",
   "execution_count": 10,
   "id": "3fd50b8e-3614-4beb-981d-3dec924b882e",
   "metadata": {},
   "outputs": [],
   "source": [
    "df3 = pd.read_csv(\"C:/Users/RICARDO/Desktop/archive/Car details v3.csv\")"
   ]
  },
  {
   "cell_type": "code",
   "execution_count": 12,
   "id": "6ceb3dde-4054-48c5-b579-7a4f27177378",
   "metadata": {},
   "outputs": [],
   "source": [
    "df4 = pd.read_csv(\"C:/Users/RICARDO/Desktop/archive/Car details v4.csv\")"
   ]
  },
  {
   "cell_type": "code",
   "execution_count": 16,
   "id": "7ae67dcb-a9da-4fb5-a062-b71225e60c6a",
   "metadata": {},
   "outputs": [
    {
     "data": {
      "text/html": [
       "<div>\n",
       "<style scoped>\n",
       "    .dataframe tbody tr th:only-of-type {\n",
       "        vertical-align: middle;\n",
       "    }\n",
       "\n",
       "    .dataframe tbody tr th {\n",
       "        vertical-align: top;\n",
       "    }\n",
       "\n",
       "    .dataframe thead th {\n",
       "        text-align: right;\n",
       "    }\n",
       "</style>\n",
       "<table border=\"1\" class=\"dataframe\">\n",
       "  <thead>\n",
       "    <tr style=\"text-align: right;\">\n",
       "      <th></th>\n",
       "      <th>Car_Name</th>\n",
       "      <th>Year</th>\n",
       "      <th>Selling_Price</th>\n",
       "      <th>Present_Price</th>\n",
       "      <th>Kms_Driven</th>\n",
       "      <th>Fuel_Type</th>\n",
       "      <th>Seller_Type</th>\n",
       "      <th>Transmission</th>\n",
       "      <th>Owner</th>\n",
       "    </tr>\n",
       "  </thead>\n",
       "  <tbody>\n",
       "    <tr>\n",
       "      <th>0</th>\n",
       "      <td>ritz</td>\n",
       "      <td>2014</td>\n",
       "      <td>3.35</td>\n",
       "      <td>5.59</td>\n",
       "      <td>27000</td>\n",
       "      <td>Petrol</td>\n",
       "      <td>Dealer</td>\n",
       "      <td>Manual</td>\n",
       "      <td>0</td>\n",
       "    </tr>\n",
       "    <tr>\n",
       "      <th>1</th>\n",
       "      <td>sx4</td>\n",
       "      <td>2013</td>\n",
       "      <td>4.75</td>\n",
       "      <td>9.54</td>\n",
       "      <td>43000</td>\n",
       "      <td>Diesel</td>\n",
       "      <td>Dealer</td>\n",
       "      <td>Manual</td>\n",
       "      <td>0</td>\n",
       "    </tr>\n",
       "    <tr>\n",
       "      <th>2</th>\n",
       "      <td>ciaz</td>\n",
       "      <td>2017</td>\n",
       "      <td>7.25</td>\n",
       "      <td>9.85</td>\n",
       "      <td>6900</td>\n",
       "      <td>Petrol</td>\n",
       "      <td>Dealer</td>\n",
       "      <td>Manual</td>\n",
       "      <td>0</td>\n",
       "    </tr>\n",
       "    <tr>\n",
       "      <th>3</th>\n",
       "      <td>wagon r</td>\n",
       "      <td>2011</td>\n",
       "      <td>2.85</td>\n",
       "      <td>4.15</td>\n",
       "      <td>5200</td>\n",
       "      <td>Petrol</td>\n",
       "      <td>Dealer</td>\n",
       "      <td>Manual</td>\n",
       "      <td>0</td>\n",
       "    </tr>\n",
       "    <tr>\n",
       "      <th>4</th>\n",
       "      <td>swift</td>\n",
       "      <td>2014</td>\n",
       "      <td>4.60</td>\n",
       "      <td>6.87</td>\n",
       "      <td>42450</td>\n",
       "      <td>Diesel</td>\n",
       "      <td>Dealer</td>\n",
       "      <td>Manual</td>\n",
       "      <td>0</td>\n",
       "    </tr>\n",
       "  </tbody>\n",
       "</table>\n",
       "</div>"
      ],
      "text/plain": [
       "  Car_Name  Year  Selling_Price  Present_Price  Kms_Driven Fuel_Type  \\\n",
       "0     ritz  2014           3.35           5.59       27000    Petrol   \n",
       "1      sx4  2013           4.75           9.54       43000    Diesel   \n",
       "2     ciaz  2017           7.25           9.85        6900    Petrol   \n",
       "3  wagon r  2011           2.85           4.15        5200    Petrol   \n",
       "4    swift  2014           4.60           6.87       42450    Diesel   \n",
       "\n",
       "  Seller_Type Transmission  Owner  \n",
       "0      Dealer       Manual      0  \n",
       "1      Dealer       Manual      0  \n",
       "2      Dealer       Manual      0  \n",
       "3      Dealer       Manual      0  \n",
       "4      Dealer       Manual      0  "
      ]
     },
     "execution_count": 16,
     "metadata": {},
     "output_type": "execute_result"
    }
   ],
   "source": [
    "df1.head()"
   ]
  },
  {
   "cell_type": "code",
   "execution_count": 18,
   "id": "c74093bb-a8f9-4c63-baf6-83960f7c9ca4",
   "metadata": {},
   "outputs": [
    {
     "name": "stdout",
     "output_type": "stream",
     "text": [
      "<class 'pandas.core.frame.DataFrame'>\n",
      "RangeIndex: 301 entries, 0 to 300\n",
      "Data columns (total 9 columns):\n",
      " #   Column         Non-Null Count  Dtype  \n",
      "---  ------         --------------  -----  \n",
      " 0   Car_Name       301 non-null    object \n",
      " 1   Year           301 non-null    int64  \n",
      " 2   Selling_Price  301 non-null    float64\n",
      " 3   Present_Price  301 non-null    float64\n",
      " 4   Kms_Driven     301 non-null    int64  \n",
      " 5   Fuel_Type      301 non-null    object \n",
      " 6   Seller_Type    301 non-null    object \n",
      " 7   Transmission   301 non-null    object \n",
      " 8   Owner          301 non-null    int64  \n",
      "dtypes: float64(2), int64(3), object(4)\n",
      "memory usage: 21.3+ KB\n"
     ]
    }
   ],
   "source": [
    "df1.info()"
   ]
  },
  {
   "cell_type": "code",
   "execution_count": 20,
   "id": "06c8520e-2e79-47dc-b431-3a0aabd90585",
   "metadata": {},
   "outputs": [
    {
     "data": {
      "text/html": [
       "<div>\n",
       "<style scoped>\n",
       "    .dataframe tbody tr th:only-of-type {\n",
       "        vertical-align: middle;\n",
       "    }\n",
       "\n",
       "    .dataframe tbody tr th {\n",
       "        vertical-align: top;\n",
       "    }\n",
       "\n",
       "    .dataframe thead th {\n",
       "        text-align: right;\n",
       "    }\n",
       "</style>\n",
       "<table border=\"1\" class=\"dataframe\">\n",
       "  <thead>\n",
       "    <tr style=\"text-align: right;\">\n",
       "      <th></th>\n",
       "      <th>Year</th>\n",
       "      <th>Selling_Price</th>\n",
       "      <th>Present_Price</th>\n",
       "      <th>Kms_Driven</th>\n",
       "      <th>Owner</th>\n",
       "    </tr>\n",
       "  </thead>\n",
       "  <tbody>\n",
       "    <tr>\n",
       "      <th>count</th>\n",
       "      <td>301.000000</td>\n",
       "      <td>301.000000</td>\n",
       "      <td>301.000000</td>\n",
       "      <td>301.000000</td>\n",
       "      <td>301.000000</td>\n",
       "    </tr>\n",
       "    <tr>\n",
       "      <th>mean</th>\n",
       "      <td>2013.627907</td>\n",
       "      <td>4.661296</td>\n",
       "      <td>7.628472</td>\n",
       "      <td>36947.205980</td>\n",
       "      <td>0.043189</td>\n",
       "    </tr>\n",
       "    <tr>\n",
       "      <th>std</th>\n",
       "      <td>2.891554</td>\n",
       "      <td>5.082812</td>\n",
       "      <td>8.644115</td>\n",
       "      <td>38886.883882</td>\n",
       "      <td>0.247915</td>\n",
       "    </tr>\n",
       "    <tr>\n",
       "      <th>min</th>\n",
       "      <td>2003.000000</td>\n",
       "      <td>0.100000</td>\n",
       "      <td>0.320000</td>\n",
       "      <td>500.000000</td>\n",
       "      <td>0.000000</td>\n",
       "    </tr>\n",
       "    <tr>\n",
       "      <th>25%</th>\n",
       "      <td>2012.000000</td>\n",
       "      <td>0.900000</td>\n",
       "      <td>1.200000</td>\n",
       "      <td>15000.000000</td>\n",
       "      <td>0.000000</td>\n",
       "    </tr>\n",
       "    <tr>\n",
       "      <th>50%</th>\n",
       "      <td>2014.000000</td>\n",
       "      <td>3.600000</td>\n",
       "      <td>6.400000</td>\n",
       "      <td>32000.000000</td>\n",
       "      <td>0.000000</td>\n",
       "    </tr>\n",
       "    <tr>\n",
       "      <th>75%</th>\n",
       "      <td>2016.000000</td>\n",
       "      <td>6.000000</td>\n",
       "      <td>9.900000</td>\n",
       "      <td>48767.000000</td>\n",
       "      <td>0.000000</td>\n",
       "    </tr>\n",
       "    <tr>\n",
       "      <th>max</th>\n",
       "      <td>2018.000000</td>\n",
       "      <td>35.000000</td>\n",
       "      <td>92.600000</td>\n",
       "      <td>500000.000000</td>\n",
       "      <td>3.000000</td>\n",
       "    </tr>\n",
       "  </tbody>\n",
       "</table>\n",
       "</div>"
      ],
      "text/plain": [
       "              Year  Selling_Price  Present_Price     Kms_Driven       Owner\n",
       "count   301.000000     301.000000     301.000000     301.000000  301.000000\n",
       "mean   2013.627907       4.661296       7.628472   36947.205980    0.043189\n",
       "std       2.891554       5.082812       8.644115   38886.883882    0.247915\n",
       "min    2003.000000       0.100000       0.320000     500.000000    0.000000\n",
       "25%    2012.000000       0.900000       1.200000   15000.000000    0.000000\n",
       "50%    2014.000000       3.600000       6.400000   32000.000000    0.000000\n",
       "75%    2016.000000       6.000000       9.900000   48767.000000    0.000000\n",
       "max    2018.000000      35.000000      92.600000  500000.000000    3.000000"
      ]
     },
     "execution_count": 20,
     "metadata": {},
     "output_type": "execute_result"
    }
   ],
   "source": [
    "df1.describe()"
   ]
  },
  {
   "cell_type": "code",
   "execution_count": 22,
   "id": "eff2326c-d490-41b7-9a0e-035ada9433f3",
   "metadata": {},
   "outputs": [
    {
     "data": {
      "text/plain": [
       "Car_Name         0\n",
       "Year             0\n",
       "Selling_Price    0\n",
       "Present_Price    0\n",
       "Kms_Driven       0\n",
       "Fuel_Type        0\n",
       "Seller_Type      0\n",
       "Transmission     0\n",
       "Owner            0\n",
       "dtype: int64"
      ]
     },
     "execution_count": 22,
     "metadata": {},
     "output_type": "execute_result"
    }
   ],
   "source": [
    "df1.isnull().sum()"
   ]
  },
  {
   "cell_type": "code",
   "execution_count": 24,
   "id": "a9c45484-6216-4009-b4fa-41c233a18ba5",
   "metadata": {},
   "outputs": [
    {
     "data": {
      "text/plain": [
       "(301, 9)"
      ]
     },
     "execution_count": 24,
     "metadata": {},
     "output_type": "execute_result"
    }
   ],
   "source": [
    "df1.shape"
   ]
  },
  {
   "cell_type": "raw",
   "id": "19463342-8900-47d0-8d37-891e034d8d52",
   "metadata": {},
   "source": [
    "# Histograma del precio de venta variable objetivo: Selling_Price"
   ]
  },
  {
   "cell_type": "code",
   "execution_count": 26,
   "id": "d3b678c7-05e3-4d40-8c1c-c5612d90e3b8",
   "metadata": {},
   "outputs": [
    {
     "data": {
      "image/png": "[encoded data removed]",
      "text/plain": [
       "<Figure size 1000x500 with 1 Axes>"
      ]
     },
     "metadata": {},
     "output_type": "display_data"
    }
   ],
   "source": [
    "plt.figure(figsize=(10, 5))\n",
    "sns.histplot(df1['Selling_Price'], kde=True)\n",
    "plt.title('Distribución del Precio de Venta')\n",
    "plt.xlabel('Precio de Venta (lakhs)')\n",
    "plt.ylabel('Frecuencia')\n",
    "plt.grid(True)\n",
    "plt.show()"
   ]
  },
  {
   "cell_type": "raw",
   "id": "ecde9508-69f0-4eec-a5e4-ac4135066a39",
   "metadata": {},
   "source": [
    "# Boxplot del precio de venta"
   ]
  },
  {
   "cell_type": "code",
   "execution_count": 28,
   "id": "2a606487-ade0-4cc7-b581-107cbe4a8b52",
   "metadata": {},
   "outputs": [
    {
     "data": {
      "image/png": "[encoded data removed]",
      "text/plain": [
       "<Figure size 1000x400 with 1 Axes>"
      ]
     },
     "metadata": {},
     "output_type": "display_data"
    }
   ],
   "source": [
    "plt.figure(figsize=(10, 4))\n",
    "sns.boxplot(x=df1['Selling_Price'])\n",
    "plt.title('Outliers en el Precio de Venta')\n",
    "plt.xlabel('Precio de Venta')\n",
    "plt.grid(True)\n",
    "plt.show()"
   ]
  },
  {
   "cell_type": "raw",
   "id": "3ce8ef8f-dfd5-447d-babd-cfd764f9452e",
   "metadata": {},
   "source": [
    "Matriz de correlación entre variables numéricas"
   ]
  },
  {
   "cell_type": "code",
   "execution_count": 30,
   "id": "515d72d0-5e7c-4662-be39-1afa6ac80bf5",
   "metadata": {},
   "outputs": [
    {
     "data": {
      "image/png": "[encoded data removed]",
      "text/plain": [
       "<Figure size 1000x600 with 2 Axes>"
      ]
     },
     "metadata": {},
     "output_type": "display_data"
    }
   ],
   "source": [
    "plt.figure(figsize=(10, 6))\n",
    "sns.heatmap(df1.corr(numeric_only=True), annot=True, cmap=\"coolwarm\", fmt=\".2f\")\n",
    "plt.title(\"Matriz de Correlación entre Variables Numéricas\")\n",
    "plt.show()"
   ]
  },
  {
   "cell_type": "raw",
   "id": "c3c4fe96-99c2-4ff9-bfdc-692a3d68507a",
   "metadata": {},
   "source": [
    "El conjunto de datos contiene 301 registros y 9 columnas, relacionadas con vehículos en venta. Las variables incluyen información como el nombre del auto, año, precio original, precio de venta, kilómetros recorridos, tipo de combustible, tipo de vendedor, tipo de transmisión y número de dueños anteriores.\n",
    "El precio de venta promedio de los autos es 4.66, con un máximo de 35, lo que sugiere la presencia de vehículos de mucho valor en relacion al de menor valor.\n",
    "El kilometraje promedio es de 36,947 km, pero existen vehículos con hasta 500,000 km, lo cual es un valor muy alto y puede influir negativamente en el precio de venta.\n",
    "La mayoría de los autos han tenido un solo dueño (0), aunque hay algunos con hasta 3 dueños anteriores.\n",
    "La mayoría de los autos tienen un precio de venta inferior a 10.\n",
    "Hay una distribución sesgada (asimetría positiva)\n",
    "La mayor densidad de precios se encuentra entre 0 y 5.\n",
    "Segun el diagrama de caja (boxplot) hay varios valores atípicos (outliers) por encima de los 15.\n",
    "Existe una alta correlación (0.88) entre el Present_Price y el Selling_Price, cuanto mayor es el precio original del auto, mayor será su precio de venta.\n",
    "Year también tiene una correlación positiva (0.24) con el precio de venta autos más nuevos tienden a venderse a mayor precio.\n",
    "Kms_Driven tiene una ligera correlación negativa (-0.05) con el precio de venta, cuanto más usado está un auto, menor suele ser su precio.\n",
    "La variable Owner tiene baja correlación con el precio de venta, lo que sugiere que el número de dueños anteriores no influye significativamente en el precio.\n",
    "No hay valores faltantes\n",
    "la variables año de fabricación también tienen relación con el precio de venta"
   ]
  },
  {
   "cell_type": "code",
   "execution_count": 32,
   "id": "2cded717-01b8-4701-ac0c-cf50152c1c46",
   "metadata": {},
   "outputs": [
    {
     "data": {
      "text/plain": [
       "Car_Name         0\n",
       "Year             0\n",
       "Selling_Price    0\n",
       "Present_Price    0\n",
       "Kms_Driven       0\n",
       "Fuel_Type        0\n",
       "Seller_Type      0\n",
       "Transmission     0\n",
       "Owner            0\n",
       "dtype: int64"
      ]
     },
     "execution_count": 32,
     "metadata": {},
     "output_type": "execute_result"
    }
   ],
   "source": [
    "df1.isnull().sum()"
   ]
  },
  {
   "cell_type": "raw",
   "id": "ef1a3010-58c8-4425-ac96-e45e58fcd2dd",
   "metadata": {},
   "source": [
    "los valores faltantes son 0"
   ]
  },
  {
   "cell_type": "code",
   "execution_count": null,
   "id": "ec22dd4d-3afb-42b7-b81a-5f6415b80099",
   "metadata": {},
   "outputs": [],
   "source": [
    "df = df1.copy()"
   ]
  },
  {
   "cell_type": "code",
   "execution_count": 34,
   "id": "f4809ae7-cceb-400c-92a6-a5876e453078",
   "metadata": {},
   "outputs": [],
   "source": [
    "df = pd.get_dummies(df, drop_first=True)"
   ]
  },
  {
   "cell_type": "raw",
   "id": "651c2da8-3962-424a-b728-38a69ed88cb4",
   "metadata": {},
   "source": [
    "Transformacion de columnas categóricas a columnas numéricas, \n",
    "las columnas Fuel_Type, Seller_Type, y Transmission se convertirán en columnas binarias (0 y 1)"
   ]
  },
  {
   "cell_type": "code",
   "execution_count": 36,
   "id": "0c2bbf11-8e4a-4629-abd5-6c87ed45389b",
   "metadata": {},
   "outputs": [],
   "source": [
    "df = df[df['Present_Price'] < 40]\n",
    "df = df[df['Kms_Driven'] < 250000]"
   ]
  },
  {
   "cell_type": "code",
   "execution_count": null,
   "id": "f7fb5d3c-afc3-4247-8ec5-9362743a6841",
   "metadata": {},
   "outputs": [],
   "source": [
    "eliminacion de algunos valores atipocos que pueden afectar la regresion lineal"
   ]
  },
  {
   "cell_type": "code",
   "execution_count": 96,
   "id": "bfc66c40-9814-4462-aff2-b911b9025248",
   "metadata": {},
   "outputs": [],
   "source": [
    "df1 = pd.read_csv(\"C:/Users/RICARDO/Desktop/archive/car data.csv\")"
   ]
  },
  {
   "cell_type": "code",
   "execution_count": 98,
   "id": "f0e930f0-2a10-4526-b34c-11155c01720b",
   "metadata": {},
   "outputs": [],
   "source": [
    "le = LabelEncoder()\n",
    "df1['Fuel_Type'] = le.fit_transform(df1['Fuel_Type'])\n",
    "df1['Seller_Type'] = le.fit_transform(df1['Seller_Type'])\n",
    "df1['Transmission'] = le.fit_transform(df1['Transmission'])"
   ]
  },
  {
   "cell_type": "raw",
   "id": "e6c77925-4740-4802-8219-9b7cd5ed881c",
   "metadata": {},
   "source": [
    "Convercion columnas categóricas a columnas números"
   ]
  },
  {
   "cell_type": "code",
   "execution_count": 100,
   "id": "0e40368b-ea9b-49a9-8526-f28e8b826c8c",
   "metadata": {},
   "outputs": [],
   "source": [
    "df1['Car_Age'] = 2025 - df1['Year']\n",
    "df1.drop(['Year'], axis=1, inplace=True)"
   ]
  },
  {
   "cell_type": "raw",
   "id": "6b9cf48d-3b92-4b9f-873b-9862fe060f68",
   "metadata": {},
   "source": [
    "definicion de variables "
   ]
  },
  {
   "cell_type": "code",
   "execution_count": 102,
   "id": "13364582-448e-4284-b245-572f418774d5",
   "metadata": {},
   "outputs": [],
   "source": [
    "X = df1.drop(['Selling_Price', 'Car_Name'], axis=1)\n",
    "y = df1['Selling_Price']"
   ]
  },
  {
   "cell_type": "code",
   "execution_count": null,
   "id": "3285bc05-d930-4a31-9251-0a6839495880",
   "metadata": {},
   "outputs": [],
   "source": [
    "usando selectKBest para seleccionar las características, se imprime el resultado "
   ]
  },
  {
   "cell_type": "code",
   "execution_count": 108,
   "id": "8832c463-66c1-4f0d-ad86-328632d5b34e",
   "metadata": {},
   "outputs": [],
   "source": [
    "selector = SelectKBest(score_func=f_regression, k='all')\n",
    "X_new = selector.fit_transform(X, y)"
   ]
  },
  {
   "cell_type": "code",
   "execution_count": 106,
   "id": "fe31bc71-dec3-430c-8f5e-44346b2a47bf",
   "metadata": {},
   "outputs": [
    {
     "name": "stdout",
     "output_type": "stream",
     "text": [
      "Puntuación de las características más relevantes:\n",
      "  Característica      Puntaje\n",
      "0  Present_Price  1015.923320\n",
      "3    Seller_Type   130.164012\n",
      "2      Fuel_Type   104.812250\n",
      "4   Transmission    46.577926\n",
      "6        Car_Age    17.657642\n",
      "5          Owner     2.351956\n",
      "1     Kms_Driven     0.254931\n"
     ]
    }
   ],
   "source": [
    "feature_scores = pd.DataFrame({\n",
    "    'Característica': X.columns,\n",
    "    'Puntaje': selector.scores_\n",
    "}).sort_values(by='Puntaje', ascending=False)\n",
    "\n",
    "print(\"Puntuación de las características más relevantes:\")\n",
    "print(feature_scores)"
   ]
  },
  {
   "cell_type": "raw",
   "id": "4278a3a1-d582-4582-8ccb-e6d615b51452",
   "metadata": {},
   "source": [
    "utilicé el método SelectKBest con la función f_regression, que evalúa la relación estadística entre cada característica y la variable objetivo, que en este caso es el precio de venta del carro (Selling_Price), realice la codificación de las variables categóricas (Fuel_Type, Seller_Type y Transmission) usando LabelEncoder, ya que los algoritmos de regresión lineal solo funcionan con datos numéricos,calculé la edad del carro restando el año del vehículo al año actual (2025) y eliminé la columna Year, ya que Car_Age es más útil para el modelo.\n",
    "\n",
    "utilice el SelectKBest, que asigna un puntaje de relevancia a cada una de las variables independientes, ordené los resultados de mayor a menor relevancia.\n",
    "\n",
    "Esto indica que las características más influyentes para predecir el precio de venta\n",
    "\n",
    "Present_Price (precio actual del carro)\n",
    "Seller_Type (tipo de vendedor)\n",
    "Fuel_Type (tipo de combustible)\n",
    "Transmission (tipo de transmisión)"
   ]
  },
  {
   "cell_type": "code",
   "execution_count": 114,
   "id": "443ff7b3-8762-40b5-82b7-15242a809fbe",
   "metadata": {},
   "outputs": [],
   "source": [
    "X = df1.drop(['Selling_Price'], axis=1)\n",
    "y = df1['Selling_Price']"
   ]
  },
  {
   "cell_type": "code",
   "execution_count": 116,
   "id": "5a58d12c-1284-439d-8154-d88ab4b76f7b",
   "metadata": {},
   "outputs": [],
   "source": [
    "X_train, X_test, y_train, y_test = train_test_split(X, y, test_size=0.2, random_state=42)"
   ]
  },
  {
   "cell_type": "code",
   "execution_count": 118,
   "id": "cc00e842-52dd-4736-a0ff-4edbbfb2a012",
   "metadata": {},
   "outputs": [
    {
     "name": "stdout",
     "output_type": "stream",
     "text": [
      "Tamaño de datos de entrenamiento: (240, 8)\n",
      "Tamaño de datos de prueba: (61, 8)\n"
     ]
    }
   ],
   "source": [
    "print(\"Tamaño de datos de entrenamiento:\", X_train.shape)\n",
    "print(\"Tamaño de datos de prueba:\", X_test.shape)"
   ]
  },
  {
   "cell_type": "raw",
   "id": "ebc117b9-ac6b-43e2-aa85-a06e109c7537",
   "metadata": {},
   "source": [
    "Separé el 80% para entrenamiento y el 20% para prueba, use train_test_split de sklearn y además fijé el proceso aleatorio (random_state=42) para que siempre que corra el código me dé la misma división."
   ]
  },
  {
   "cell_type": "code",
   "execution_count": 40,
   "id": "92f25526-4127-47e9-a727-d3c9901b9ff4",
   "metadata": {},
   "outputs": [],
   "source": [
    "y = df['Selling_Price']"
   ]
  },
  {
   "cell_type": "code",
   "execution_count": 62,
   "id": "33e65ba5-657b-4b12-9315-b3738e917cc7",
   "metadata": {},
   "outputs": [],
   "source": [
    "X = df.drop(['Selling_Price', 'Present_Price'], axis=1)"
   ]
  },
  {
   "cell_type": "code",
   "execution_count": 50,
   "id": "1d97c2b1-7e54-407f-aa54-651cef1e41ec",
   "metadata": {},
   "outputs": [],
   "source": [
    "from sklearn.model_selection import train_test_split\n",
    "\n",
    "X_train, X_test, y_train, y_test = train_test_split(X, y, test_size=0.2, random_state=42)"
   ]
  },
  {
   "cell_type": "code",
   "execution_count": 64,
   "id": "0fddb531-11f2-483a-9bb2-79c4dd34c5ec",
   "metadata": {},
   "outputs": [
    {
     "data": {
      "text/html": [
       "<style>#sk-container-id-2 {\n",
       "  /* Definition of color scheme common for light and dark mode */\n",
       "  --sklearn-color-text: black;\n",
       "  --sklearn-color-line: gray;\n",
       "  /* Definition of color scheme for unfitted estimators */\n",
       "  --sklearn-color-unfitted-level-0: #fff5e6;\n",
       "  --sklearn-color-unfitted-level-1: #f6e4d2;\n",
       "  --sklearn-color-unfitted-level-2: #ffe0b3;\n",
       "  --sklearn-color-unfitted-level-3: chocolate;\n",
       "  /* Definition of color scheme for fitted estimators */\n",
       "  --sklearn-color-fitted-level-0: #f0f8ff;\n",
       "  --sklearn-color-fitted-level-1: #d4ebff;\n",
       "  --sklearn-color-fitted-level-2: #b3dbfd;\n",
       "  --sklearn-color-fitted-level-3: cornflowerblue;\n",
       "\n",
       "  /* Specific color for light theme */\n",
       "  --sklearn-color-text-on-default-background: var(--sg-text-color, var(--theme-code-foreground, var(--jp-content-font-color1, black)));\n",
       "  --sklearn-color-background: var(--sg-background-color, var(--theme-background, var(--jp-layout-color0, white)));\n",
       "  --sklearn-color-border-box: var(--sg-text-color, var(--theme-code-foreground, var(--jp-content-font-color1, black)));\n",
       "  --sklearn-color-icon: #696969;\n",
       "\n",
       "  @media (prefers-color-scheme: dark) {\n",
       "    /* Redefinition of color scheme for dark theme */\n",
       "    --sklearn-color-text-on-default-background: var(--sg-text-color, var(--theme-code-foreground, var(--jp-content-font-color1, white)));\n",
       "    --sklearn-color-background: var(--sg-background-color, var(--theme-background, var(--jp-layout-color0, #111)));\n",
       "    --sklearn-color-border-box: var(--sg-text-color, var(--theme-code-foreground, var(--jp-content-font-color1, white)));\n",
       "    --sklearn-color-icon: #878787;\n",
       "  }\n",
       "}\n",
       "\n",
       "#sk-container-id-2 {\n",
       "  color: var(--sklearn-color-text);\n",
       "}\n",
       "\n",
       "#sk-container-id-2 pre {\n",
       "  padding: 0;\n",
       "}\n",
       "\n",
       "#sk-container-id-2 input.sk-hidden--visually {\n",
       "  border: 0;\n",
       "  clip: rect(1px 1px 1px 1px);\n",
       "  clip: rect(1px, 1px, 1px, 1px);\n",
       "  height: 1px;\n",
       "  margin: -1px;\n",
       "  overflow: hidden;\n",
       "  padding: 0;\n",
       "  position: absolute;\n",
       "  width: 1px;\n",
       "}\n",
       "\n",
       "#sk-container-id-2 div.sk-dashed-wrapped {\n",
       "  border: 1px dashed var(--sklearn-color-line);\n",
       "  margin: 0 0.4em 0.5em 0.4em;\n",
       "  box-sizing: border-box;\n",
       "  padding-bottom: 0.4em;\n",
       "  background-color: var(--sklearn-color-background);\n",
       "}\n",
       "\n",
       "#sk-container-id-2 div.sk-container {\n",
       "  /* jupyter's `normalize.less` sets `[hidden] { display: none; }`\n",
       "     but bootstrap.min.css set `[hidden] { display: none !important; }`\n",
       "     so we also need the `!important` here to be able to override the\n",
       "     default hidden behavior on the sphinx rendered scikit-learn.org.\n",
       "     See: https://github.com/scikit-learn/scikit-learn/issues/21755 */\n",
       "  display: inline-block !important;\n",
       "  position: relative;\n",
       "}\n",
       "\n",
       "#sk-container-id-2 div.sk-text-repr-fallback {\n",
       "  display: none;\n",
       "}\n",
       "\n",
       "div.sk-parallel-item,\n",
       "div.sk-serial,\n",
       "div.sk-item {\n",
       "  /* draw centered vertical line to link estimators */\n",
       "  background-image: linear-gradient(var(--sklearn-color-text-on-default-background), var(--sklearn-color-text-on-default-background));\n",
       "  background-size: 2px 100%;\n",
       "  background-repeat: no-repeat;\n",
       "  background-position: center center;\n",
       "}\n",
       "\n",
       "/* Parallel-specific style estimator block */\n",
       "\n",
       "#sk-container-id-2 div.sk-parallel-item::after {\n",
       "  content: \"\";\n",
       "  width: 100%;\n",
       "  border-bottom: 2px solid var(--sklearn-color-text-on-default-background);\n",
       "  flex-grow: 1;\n",
       "}\n",
       "\n",
       "#sk-container-id-2 div.sk-parallel {\n",
       "  display: flex;\n",
       "  align-items: stretch;\n",
       "  justify-content: center;\n",
       "  background-color: var(--sklearn-color-background);\n",
       "  position: relative;\n",
       "}\n",
       "\n",
       "#sk-container-id-2 div.sk-parallel-item {\n",
       "  display: flex;\n",
       "  flex-direction: column;\n",
       "}\n",
       "\n",
       "#sk-container-id-2 div.sk-parallel-item:first-child::after {\n",
       "  align-self: flex-end;\n",
       "  width: 50%;\n",
       "}\n",
       "\n",
       "#sk-container-id-2 div.sk-parallel-item:last-child::after {\n",
       "  align-self: flex-start;\n",
       "  width: 50%;\n",
       "}\n",
       "\n",
       "#sk-container-id-2 div.sk-parallel-item:only-child::after {\n",
       "  width: 0;\n",
       "}\n",
       "\n",
       "/* Serial-specific style estimator block */\n",
       "\n",
       "#sk-container-id-2 div.sk-serial {\n",
       "  display: flex;\n",
       "  flex-direction: column;\n",
       "  align-items: center;\n",
       "  background-color: var(--sklearn-color-background);\n",
       "  padding-right: 1em;\n",
       "  padding-left: 1em;\n",
       "}\n",
       "\n",
       "\n",
       "/* Toggleable style: style used for estimator/Pipeline/ColumnTransformer box that is\n",
       "clickable and can be expanded/collapsed.\n",
       "- Pipeline and ColumnTransformer use this feature and define the default style\n",
       "- Estimators will overwrite some part of the style using the `sk-estimator` class\n",
       "*/\n",
       "\n",
       "/* Pipeline and ColumnTransformer style (default) */\n",
       "\n",
       "#sk-container-id-2 div.sk-toggleable {\n",
       "  /* Default theme specific background. It is overwritten whether we have a\n",
       "  specific estimator or a Pipeline/ColumnTransformer */\n",
       "  background-color: var(--sklearn-color-background);\n",
       "}\n",
       "\n",
       "/* Toggleable label */\n",
       "#sk-container-id-2 label.sk-toggleable__label {\n",
       "  cursor: pointer;\n",
       "  display: block;\n",
       "  width: 100%;\n",
       "  margin-bottom: 0;\n",
       "  padding: 0.5em;\n",
       "  box-sizing: border-box;\n",
       "  text-align: center;\n",
       "}\n",
       "\n",
       "#sk-container-id-2 label.sk-toggleable__label-arrow:before {\n",
       "  /* Arrow on the left of the label */\n",
       "  content: \"▸\";\n",
       "  float: left;\n",
       "  margin-right: 0.25em;\n",
       "  color: var(--sklearn-color-icon);\n",
       "}\n",
       "\n",
       "#sk-container-id-2 label.sk-toggleable__label-arrow:hover:before {\n",
       "  color: var(--sklearn-color-text);\n",
       "}\n",
       "\n",
       "/* Toggleable content - dropdown */\n",
       "\n",
       "#sk-container-id-2 div.sk-toggleable__content {\n",
       "  max-height: 0;\n",
       "  max-width: 0;\n",
       "  overflow: hidden;\n",
       "  text-align: left;\n",
       "  /* unfitted */\n",
       "  background-color: var(--sklearn-color-unfitted-level-0);\n",
       "}\n",
       "\n",
       "#sk-container-id-2 div.sk-toggleable__content.fitted {\n",
       "  /* fitted */\n",
       "  background-color: var(--sklearn-color-fitted-level-0);\n",
       "}\n",
       "\n",
       "#sk-container-id-2 div.sk-toggleable__content pre {\n",
       "  margin: 0.2em;\n",
       "  border-radius: 0.25em;\n",
       "  color: var(--sklearn-color-text);\n",
       "  /* unfitted */\n",
       "  background-color: var(--sklearn-color-unfitted-level-0);\n",
       "}\n",
       "\n",
       "#sk-container-id-2 div.sk-toggleable__content.fitted pre {\n",
       "  /* unfitted */\n",
       "  background-color: var(--sklearn-color-fitted-level-0);\n",
       "}\n",
       "\n",
       "#sk-container-id-2 input.sk-toggleable__control:checked~div.sk-toggleable__content {\n",
       "  /* Expand drop-down */\n",
       "  max-height: 200px;\n",
       "  max-width: 100%;\n",
       "  overflow: auto;\n",
       "}\n",
       "\n",
       "#sk-container-id-2 input.sk-toggleable__control:checked~label.sk-toggleable__label-arrow:before {\n",
       "  content: \"▾\";\n",
       "}\n",
       "\n",
       "/* Pipeline/ColumnTransformer-specific style */\n",
       "\n",
       "#sk-container-id-2 div.sk-label input.sk-toggleable__control:checked~label.sk-toggleable__label {\n",
       "  color: var(--sklearn-color-text);\n",
       "  background-color: var(--sklearn-color-unfitted-level-2);\n",
       "}\n",
       "\n",
       "#sk-container-id-2 div.sk-label.fitted input.sk-toggleable__control:checked~label.sk-toggleable__label {\n",
       "  background-color: var(--sklearn-color-fitted-level-2);\n",
       "}\n",
       "\n",
       "/* Estimator-specific style */\n",
       "\n",
       "/* Colorize estimator box */\n",
       "#sk-container-id-2 div.sk-estimator input.sk-toggleable__control:checked~label.sk-toggleable__label {\n",
       "  /* unfitted */\n",
       "  background-color: var(--sklearn-color-unfitted-level-2);\n",
       "}\n",
       "\n",
       "#sk-container-id-2 div.sk-estimator.fitted input.sk-toggleable__control:checked~label.sk-toggleable__label {\n",
       "  /* fitted */\n",
       "  background-color: var(--sklearn-color-fitted-level-2);\n",
       "}\n",
       "\n",
       "#sk-container-id-2 div.sk-label label.sk-toggleable__label,\n",
       "#sk-container-id-2 div.sk-label label {\n",
       "  /* The background is the default theme color */\n",
       "  color: var(--sklearn-color-text-on-default-background);\n",
       "}\n",
       "\n",
       "/* On hover, darken the color of the background */\n",
       "#sk-container-id-2 div.sk-label:hover label.sk-toggleable__label {\n",
       "  color: var(--sklearn-color-text);\n",
       "  background-color: var(--sklearn-color-unfitted-level-2);\n",
       "}\n",
       "\n",
       "/* Label box, darken color on hover, fitted */\n",
       "#sk-container-id-2 div.sk-label.fitted:hover label.sk-toggleable__label.fitted {\n",
       "  color: var(--sklearn-color-text);\n",
       "  background-color: var(--sklearn-color-fitted-level-2);\n",
       "}\n",
       "\n",
       "/* Estimator label */\n",
       "\n",
       "#sk-container-id-2 div.sk-label label {\n",
       "  font-family: monospace;\n",
       "  font-weight: bold;\n",
       "  display: inline-block;\n",
       "  line-height: 1.2em;\n",
       "}\n",
       "\n",
       "#sk-container-id-2 div.sk-label-container {\n",
       "  text-align: center;\n",
       "}\n",
       "\n",
       "/* Estimator-specific */\n",
       "#sk-container-id-2 div.sk-estimator {\n",
       "  font-family: monospace;\n",
       "  border: 1px dotted var(--sklearn-color-border-box);\n",
       "  border-radius: 0.25em;\n",
       "  box-sizing: border-box;\n",
       "  margin-bottom: 0.5em;\n",
       "  /* unfitted */\n",
       "  background-color: var(--sklearn-color-unfitted-level-0);\n",
       "}\n",
       "\n",
       "#sk-container-id-2 div.sk-estimator.fitted {\n",
       "  /* fitted */\n",
       "  background-color: var(--sklearn-color-fitted-level-0);\n",
       "}\n",
       "\n",
       "/* on hover */\n",
       "#sk-container-id-2 div.sk-estimator:hover {\n",
       "  /* unfitted */\n",
       "  background-color: var(--sklearn-color-unfitted-level-2);\n",
       "}\n",
       "\n",
       "#sk-container-id-2 div.sk-estimator.fitted:hover {\n",
       "  /* fitted */\n",
       "  background-color: var(--sklearn-color-fitted-level-2);\n",
       "}\n",
       "\n",
       "/* Specification for estimator info (e.g. \"i\" and \"?\") */\n",
       "\n",
       "/* Common style for \"i\" and \"?\" */\n",
       "\n",
       ".sk-estimator-doc-link,\n",
       "a:link.sk-estimator-doc-link,\n",
       "a:visited.sk-estimator-doc-link {\n",
       "  float: right;\n",
       "  font-size: smaller;\n",
       "  line-height: 1em;\n",
       "  font-family: monospace;\n",
       "  background-color: var(--sklearn-color-background);\n",
       "  border-radius: 1em;\n",
       "  height: 1em;\n",
       "  width: 1em;\n",
       "  text-decoration: none !important;\n",
       "  margin-left: 1ex;\n",
       "  /* unfitted */\n",
       "  border: var(--sklearn-color-unfitted-level-1) 1pt solid;\n",
       "  color: var(--sklearn-color-unfitted-level-1);\n",
       "}\n",
       "\n",
       ".sk-estimator-doc-link.fitted,\n",
       "a:link.sk-estimator-doc-link.fitted,\n",
       "a:visited.sk-estimator-doc-link.fitted {\n",
       "  /* fitted */\n",
       "  border: var(--sklearn-color-fitted-level-1) 1pt solid;\n",
       "  color: var(--sklearn-color-fitted-level-1);\n",
       "}\n",
       "\n",
       "/* On hover */\n",
       "div.sk-estimator:hover .sk-estimator-doc-link:hover,\n",
       ".sk-estimator-doc-link:hover,\n",
       "div.sk-label-container:hover .sk-estimator-doc-link:hover,\n",
       ".sk-estimator-doc-link:hover {\n",
       "  /* unfitted */\n",
       "  background-color: var(--sklearn-color-unfitted-level-3);\n",
       "  color: var(--sklearn-color-background);\n",
       "  text-decoration: none;\n",
       "}\n",
       "\n",
       "div.sk-estimator.fitted:hover .sk-estimator-doc-link.fitted:hover,\n",
       ".sk-estimator-doc-link.fitted:hover,\n",
       "div.sk-label-container:hover .sk-estimator-doc-link.fitted:hover,\n",
       ".sk-estimator-doc-link.fitted:hover {\n",
       "  /* fitted */\n",
       "  background-color: var(--sklearn-color-fitted-level-3);\n",
       "  color: var(--sklearn-color-background);\n",
       "  text-decoration: none;\n",
       "}\n",
       "\n",
       "/* Span, style for the box shown on hovering the info icon */\n",
       ".sk-estimator-doc-link span {\n",
       "  display: none;\n",
       "  z-index: 9999;\n",
       "  position: relative;\n",
       "  font-weight: normal;\n",
       "  right: .2ex;\n",
       "  padding: .5ex;\n",
       "  margin: .5ex;\n",
       "  width: min-content;\n",
       "  min-width: 20ex;\n",
       "  max-width: 50ex;\n",
       "  color: var(--sklearn-color-text);\n",
       "  box-shadow: 2pt 2pt 4pt #999;\n",
       "  /* unfitted */\n",
       "  background: var(--sklearn-color-unfitted-level-0);\n",
       "  border: .5pt solid var(--sklearn-color-unfitted-level-3);\n",
       "}\n",
       "\n",
       ".sk-estimator-doc-link.fitted span {\n",
       "  /* fitted */\n",
       "  background: var(--sklearn-color-fitted-level-0);\n",
       "  border: var(--sklearn-color-fitted-level-3);\n",
       "}\n",
       "\n",
       ".sk-estimator-doc-link:hover span {\n",
       "  display: block;\n",
       "}\n",
       "\n",
       "/* \"?\"-specific style due to the `<a>` HTML tag */\n",
       "\n",
       "#sk-container-id-2 a.estimator_doc_link {\n",
       "  float: right;\n",
       "  font-size: 1rem;\n",
       "  line-height: 1em;\n",
       "  font-family: monospace;\n",
       "  background-color: var(--sklearn-color-background);\n",
       "  border-radius: 1rem;\n",
       "  height: 1rem;\n",
       "  width: 1rem;\n",
       "  text-decoration: none;\n",
       "  /* unfitted */\n",
       "  color: var(--sklearn-color-unfitted-level-1);\n",
       "  border: var(--sklearn-color-unfitted-level-1) 1pt solid;\n",
       "}\n",
       "\n",
       "#sk-container-id-2 a.estimator_doc_link.fitted {\n",
       "  /* fitted */\n",
       "  border: var(--sklearn-color-fitted-level-1) 1pt solid;\n",
       "  color: var(--sklearn-color-fitted-level-1);\n",
       "}\n",
       "\n",
       "/* On hover */\n",
       "#sk-container-id-2 a.estimator_doc_link:hover {\n",
       "  /* unfitted */\n",
       "  background-color: var(--sklearn-color-unfitted-level-3);\n",
       "  color: var(--sklearn-color-background);\n",
       "  text-decoration: none;\n",
       "}\n",
       "\n",
       "#sk-container-id-2 a.estimator_doc_link.fitted:hover {\n",
       "  /* fitted */\n",
       "  background-color: var(--sklearn-color-fitted-level-3);\n",
       "}\n",
       "</style><div id=\"sk-container-id-2\" class=\"sk-top-container\"><div class=\"sk-text-repr-fallback\"><pre>LinearRegression()</pre><b>In a Jupyter environment, please rerun this cell to show the HTML representation or trust the notebook. <br />On GitHub, the HTML representation is unable to render, please try loading this page with nbviewer.org.</b></div><div class=\"sk-container\" hidden><div class=\"sk-item\"><div class=\"sk-estimator fitted sk-toggleable\"><input class=\"sk-toggleable__control sk-hidden--visually\" id=\"sk-estimator-id-2\" type=\"checkbox\" checked><label for=\"sk-estimator-id-2\" class=\"sk-toggleable__label fitted sk-toggleable__label-arrow fitted\">&nbsp;&nbsp;LinearRegression<a class=\"sk-estimator-doc-link fitted\" rel=\"noreferrer\" target=\"_blank\" href=\"https://scikit-learn.org/1.5/modules/generated/sklearn.linear_model.LinearRegression.html\">?<span>Documentation for LinearRegression</span></a><span class=\"sk-estimator-doc-link fitted\">i<span>Fitted</span></span></label><div class=\"sk-toggleable__content fitted\"><pre>LinearRegression()</pre></div> </div></div></div></div>"
      ],
      "text/plain": [
       "LinearRegression()"
      ]
     },
     "execution_count": 64,
     "metadata": {},
     "output_type": "execute_result"
    }
   ],
   "source": [
    "from sklearn.linear_model import LinearRegression\n",
    "\n",
    "modelo = LinearRegression()\n",
    "modelo.fit(X_train, y_train)"
   ]
  },
  {
   "cell_type": "raw",
   "id": "cfa0b388-fab6-4ffd-ba1a-b5e2a81f1d35",
   "metadata": {},
   "source": [
    "entrenando el Modelo de Regresión Lineal"
   ]
  },
  {
   "cell_type": "code",
   "execution_count": 56,
   "id": "bd6d011a-315b-4ef5-9edb-b65db425d677",
   "metadata": {},
   "outputs": [
    {
     "name": "stdout",
     "output_type": "stream",
     "text": [
      "R² Score: 0.22822489808575297\n",
      "RMSE: 4.967028000903721\n"
     ]
    }
   ],
   "source": [
    "from sklearn.metrics import r2_score, root_mean_squared_error\n",
    "\n",
    "y_pred = modelo.predict(X_test)\n",
    "\n",
    "print(\"R² Score:\", r2_score(y_test, y_pred))\n",
    "print(\"RMSE:\", root_mean_squared_error(y_test, y_pred))"
   ]
  },
  {
   "cell_type": "raw",
   "id": "fe5134a6-5d6f-4bc4-ac10-33b2be8e807f",
   "metadata": {},
   "source": [
    "evaluacion del modelo "
   ]
  },
  {
   "cell_type": "code",
   "execution_count": 58,
   "id": "aca68c51-02dd-42e6-988f-cbb3aab39917",
   "metadata": {},
   "outputs": [
    {
     "name": "stdout",
     "output_type": "stream",
     "text": [
      "R² Score: 0.22822489808575297\n",
      "RMSE: 4.967028000903721\n"
     ]
    },
    {
     "data": {
      "image/png": "[encoded data removed]",
      "text/plain": [
       "<Figure size 800x600 with 1 Axes>"
      ]
     },
     "metadata": {},
     "output_type": "display_data"
    }
   ],
   "source": [
    "y_pred = modelo.predict(X_test)\n",
    "\n",
    "print(\"R² Score:\", r2_score(y_test, y_pred))\n",
    "print(\"RMSE:\", root_mean_squared_error(y_test, y_pred))\n",
    "\n",
    "plt.figure(figsize=(8,6))\n",
    "sns.scatterplot(x=y_test, y=y_pred, color='blue', s=60)\n",
    "plt.plot([y_test.min(), y_test.max()], [y_test.min(), y_test.max()], '--r', linewidth=2)  # línea perfecta\n",
    "plt.xlabel(\"Precio Real\")\n",
    "plt.ylabel(\"Precio Predicho\")\n",
    "plt.title(\"Comparación entre Precio Real y Precio Predicho\")\n",
    "plt.grid(True)\n",
    "plt.show()\n"
   ]
  },
  {
   "cell_type": "raw",
   "id": "450537eb-b3fe-42e5-a099-1fb3d2a49ef5",
   "metadata": {},
   "source": [
    "En esta gráfica estoy comparando el precio real de los vehículos con el precio que predice el modelo de regresión lineal que entrené.\n",
    "\n",
    "Cada punto azul representa un carro del conjunto de prueba:\n",
    "\n",
    "El eje X muestra el precio real del carro.\n",
    "El eje Y muestra el precio que predijo el modelo.\n",
    "\n",
    "La línea roja discontinua representa el lugar donde el precio predicho sería igual al precio real.\n",
    "Entre más cerca estén los puntos de esa línea, mejor la predicción.\n",
    "al evaluar qué tan bien está funcionando mi modelo de regresión lineal, utilicé varias métricas que son adecuadas para este tipo de modelos:\n",
    "R² (Coeficiente de Determinación): indica qué tan bien se ajusta el modelo a los datos reales. \n",
    "se obtuvo un R² de 0.228, el modelo explica aproximadamente el 22.8% de la variabilidad del precio.\n",
    "RMSE (Root Mean Squared Error): me dio un valor de 4.96, error promedio entre el precio real y el predicho es de 4.96 unidades\n",
    "Estas métricas me permiten entender si el modelo está haciendo buenas predicciones"
   ]
  },
  {
   "cell_type": "code",
   "execution_count": 124,
   "id": "ce87f53e-13b9-4445-9c4b-23f70d553602",
   "metadata": {},
   "outputs": [
    {
     "data": {
      "image/png": "[encoded data removed]",
      "text/plain": [
       "<Figure size 800x500 with 1 Axes>"
      ]
     },
     "metadata": {},
     "output_type": "display_data"
    }
   ],
   "source": [
    "min_len = min(len(y_test), len(y_pred))\n",
    "y_test_trim = y_test[:min_len]\n",
    "y_pred_trim = y_pred[:min_len]\n",
    "\n",
    "plt.figure(figsize=(8,5))\n",
    "plt.scatter(y_test_trim, y_pred_trim, color='blue', label='Predicciones')\n",
    "plt.plot([min(y_test_trim), max(y_test_trim)], [min(y_test_trim), max(y_test_trim)], color='red', linestyle='--', label='Línea Perfecta')\n",
    "plt.xlabel(\"Precio Real\")\n",
    "plt.ylabel(\"Precio Predicho\")\n",
    "plt.legend()\n",
    "plt.title(\"Comparación entre valores reales y predichos\")\n",
    "plt.show()\n"
   ]
  },
  {
   "cell_type": "raw",
   "id": "c3a6f7c5-36e4-4df1-8603-57e0609816a2",
   "metadata": {},
   "source": [
    "En la gráfica comparo directamente los precios reales con los que predijo el modelo. Cada punto azul representa un vehículo: su precio real y su precio estimado.\n",
    "\n",
    "La línea roja es la línea perfecta, donde el precio predicho sería exactamente igual al real, muchos puntos están cerca de esa línea, lo cual indica que el modelo tiene buen desempeño"
   ]
  },
  {
   "cell_type": "code",
   "execution_count": 130,
   "id": "de6fdf42-a1c7-4f98-8ab7-3441475094f3",
   "metadata": {},
   "outputs": [
    {
     "data": {
      "image/png": "[encoded data removed]",
      "text/plain": [
       "<Figure size 800x500 with 1 Axes>"
      ]
     },
     "metadata": {},
     "output_type": "display_data"
    }
   ],
   "source": [
    "errores = y_test - y_pred\n",
    "\n",
    "plt.figure(figsize=(8,5))\n",
    "plt.scatter(y_pred, errores, color='purple')\n",
    "plt.axhline(y=0, color='red', linestyle='--')\n",
    "plt.xlabel(\"Precio Predicho\")\n",
    "plt.ylabel(\"Error (Precio Real - Predicho)\")\n",
    "plt.title(\"Gráfico de Errores (Residuos)\")\n",
    "plt.grid(True)\n",
    "plt.show()"
   ]
  },
  {
   "cell_type": "raw",
   "id": "82606163-86b1-409e-b7c9-4ed71121cc48",
   "metadata": {},
   "source": [
    "se evidencia cómo se comportan los errores en relación con el precio que predice el modelo. En el eje X están los precios que predice, y en el eje Y está el error (precio real menos predicho).\n",
    "\n",
    "La línea roja representa el cero, o sea, cuando no hay error. Si los puntos están dispersos uniformemente alrededor de esa línea, como se ve en mi gráfica, el modelo no tiene un patrón de error y se comporta de forma bastante estable en diferentes rangos de precios."
   ]
  },
  {
   "cell_type": "code",
   "execution_count": 132,
   "id": "4608e629-3a14-4434-a2e3-4cf7303f292f",
   "metadata": {},
   "outputs": [
    {
     "data": {
      "image/png": "[encoded data removed]",
      "text/plain": [
       "<Figure size 800x500 with 1 Axes>"
      ]
     },
     "metadata": {},
     "output_type": "display_data"
    }
   ],
   "source": [
    "plt.figure(figsize=(8,5))\n",
    "plt.hist(errores, bins=20, color='orange', edgecolor='black')\n",
    "plt.title(\"Distribución de los Errores\")\n",
    "plt.xlabel(\"Error\")\n",
    "plt.ylabel(\"Frecuencia\")\n",
    "plt.grid(True)\n",
    "plt.show()"
   ]
  },
  {
   "cell_type": "raw",
   "id": "25155d7d-e6be-43c3-8018-f37a6fe83d5f",
   "metadata": {},
   "source": [
    "la mayoría de los errores están cerca de 0, lo cual es bueno porque significa que el modelo generalmente predice con precisión"
   ]
  },
  {
   "cell_type": "raw",
   "id": "b6a45a56-9e86-40d6-951d-d0c4319f0245",
   "metadata": {},
   "source": [
    "Desempeño del modelo\n",
    "R² Score en entrenamiento: 0.8821220886752527\n",
    "\n",
    "RMSE (Error cuadrático medio): 4.092088226121881\n",
    "\n",
    "el modelo explica aproximadamente el 88% de la variación en los precios de venta de los carros\n",
    "es un buen nivel de ajuste para tratarse de un modelo lineal simple.\n",
    "\n",
    "La variable más influyente fue \"Present_Price\", seguida por \"Seller_Type\" y \"Fuel_Type\", ya que el precio actual de venta es el principal factor que afecta cuánto se puede vender un carro usado.\n",
    "El modelo de regresión lineal proporciona una aproximación para predecir el precio de venta de los vehículos, basado en las variables disponibles. \n",
    "Para mejorar en el futuro, podría intentar con modelos más avanzados como Random Forest o Gradient Boosting, o hacer una mejor normalización de datos y tratamiento de valores atípicos."
   ]
  },
  {
   "cell_type": "code",
   "execution_count": null,
   "id": "1fbca0f4-c555-4c24-a5f0-7c891afbf2a3",
   "metadata": {},
   "outputs": [],
   "source": []
  },
  {
   "cell_type": "code",
   "execution_count": null,
   "id": "8d78906b-4676-43da-9b81-2342e520c27b",
   "metadata": {},
   "outputs": [],
   "source": []
  }
 ],
 "metadata": {
  "kernelspec": {
   "display_name": "Python [conda env:base] *",
   "language": "python",
   "name": "conda-base-py"
  },
  "language_info": {
   "codemirror_mode": {
    "name": "ipython",
    "version": 3
   },
   "file_extension": ".py",
   "mimetype": "text/x-python",
   "name": "python",
   "nbconvert_exporter": "python",
   "pygments_lexer": "ipython3",
   "version": "3.12.7"
  }
 },
 "nbformat": 4,
 "nbformat_minor": 5
}
